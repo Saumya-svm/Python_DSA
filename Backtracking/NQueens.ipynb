{
 "cells": [
  {
   "cell_type": "code",
   "execution_count": 3,
   "metadata": {},
   "outputs": [
    {
     "name": "stdout",
     "output_type": "stream",
     "text": [
      "4\n",
      "0 1 0 0 0 0 0 1 1 0 0 0 0 0 1 0 \n",
      "0 0 1 0 1 0 0 0 0 0 0 1 0 1 0 0 \n"
     ]
    }
   ],
   "source": [
    "def isSafe(row,col,board,n):\n",
    "    \n",
    "    i = row-1\n",
    "    while i>=0:\n",
    "        if board[i][col] == 1:\n",
    "            return False\n",
    "        i-=1\n",
    "        \n",
    "    i = row-1\n",
    "    j = col-1\n",
    "    while i>=0 and j>=0:\n",
    "        if board[i][j] ==1:\n",
    "            return False\n",
    "        i-=1\n",
    "        j-=1\n",
    "        \n",
    "    i = row-1\n",
    "    j = col+1\n",
    "    while i>=0 and j<n:\n",
    "        if board[i][j] == 1:\n",
    "            return False\n",
    "        i-=1\n",
    "        j+=1\n",
    "        \n",
    "    return True\n",
    "\n",
    "def printPathsHelper(row,n,board):\n",
    "    if row == n:\n",
    "        for i in range(n):\n",
    "            for j in range(n):\n",
    "                print(board[i][j],end = ' ')\n",
    "                \n",
    "        print()\n",
    "        return\n",
    "    \n",
    "    for col in range(n):\n",
    "        if isSafe(row,col,board,n) is True:\n",
    "            board[row][col] = 1\n",
    "            printPathsHelper(row+1,n,board)\n",
    "            board[row][col] = 0\n",
    "            \n",
    "    return\n",
    "\n",
    "def printPaths(n):\n",
    "    board = [[0 for i in range(n)] for j in range(n)]\n",
    "    printPathsHelper(0,n,board)\n",
    "\n",
    "n= int(input())\n",
    "printPaths(n)"
   ]
  }
 ],
 "metadata": {
  "kernelspec": {
   "display_name": "Python 3",
   "language": "python",
   "name": "python3"
  },
  "language_info": {
   "codemirror_mode": {
    "name": "ipython",
    "version": 3
   },
   "file_extension": ".py",
   "mimetype": "text/x-python",
   "name": "python",
   "nbconvert_exporter": "python",
   "pygments_lexer": "ipython3",
   "version": "3.8.5"
  }
 },
 "nbformat": 4,
 "nbformat_minor": 4
}
